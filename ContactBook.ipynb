First_name = []
Last_name = []
phone_numbers = []
num = 2

for i in range(num):
    First = input("First_name: ")
    Last = input("Last_name: ")
    phone_number = input("Phone Number: ") # for convert to int => int(input("Phone Number: "))

    First_name.append(First)
    Last_name.append(Last)
    phone_numbers.append(phone_number)

print("First_name\tLast_name\tPhone Number\n")


for i in range(num):
    print("{}\t\t{}\t\t{}".format(First_name[i],Last_name[i], phone_numbers[i]))
