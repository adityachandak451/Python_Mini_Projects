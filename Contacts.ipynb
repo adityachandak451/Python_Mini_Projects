{
 "cells": [
  {
   "cell_type": "code",
   "execution_count": null,
   "id": "eaa83341-060a-473c-ad5f-db1416a41cc3",
   "metadata": {},
   "outputs": [
    {
     "name": "stdout",
     "output_type": "stream",
     "text": [
      "\n",
      "Menu:\n",
      "1. Add Contact\n",
      "2. View Contacts\n",
      "3. Search Contact\n",
      "4. Quit\n"
     ]
    },
    {
     "name": "stdin",
     "output_type": "stream",
     "text": [
      "Enter your choice (1/2/3/4):  1\n",
      "Enter the name:  Adi\n",
      "Enter the phone number:  97868688\n"
     ]
    },
    {
     "name": "stdout",
     "output_type": "stream",
     "text": [
      "Contact 'Adi' added successfully!\n",
      "\n",
      "Menu:\n",
      "1. Add Contact\n",
      "2. View Contacts\n",
      "3. Search Contact\n",
      "4. Quit\n"
     ]
    },
    {
     "name": "stdin",
     "output_type": "stream",
     "text": [
      "Enter your choice (1/2/3/4):  1\n",
      "Enter the name:  Adi\n",
      "Enter the phone number:  97979696\n"
     ]
    },
    {
     "name": "stdout",
     "output_type": "stream",
     "text": [
      "Contact 'Adi' added successfully!\n",
      "\n",
      "Menu:\n",
      "1. Add Contact\n",
      "2. View Contacts\n",
      "3. Search Contact\n",
      "4. Quit\n"
     ]
    },
    {
     "name": "stdin",
     "output_type": "stream",
     "text": [
      "Enter your choice (1/2/3/4):  3\n",
      "Enter the name to search for:  Adi\n"
     ]
    },
    {
     "name": "stdout",
     "output_type": "stream",
     "text": [
      "Name: Adi, Phone: 97979696\n",
      "\n",
      "Menu:\n",
      "1. Add Contact\n",
      "2. View Contacts\n",
      "3. Search Contact\n",
      "4. Quit\n"
     ]
    },
    {
     "name": "stdin",
     "output_type": "stream",
     "text": [
      "Enter your choice (1/2/3/4):  1\n",
      "Enter the name:  Aditya\n",
      "Enter the phone number:  88\n"
     ]
    },
    {
     "name": "stdout",
     "output_type": "stream",
     "text": [
      "Contact 'Aditya' added successfully!\n",
      "\n",
      "Menu:\n",
      "1. Add Contact\n",
      "2. View Contacts\n",
      "3. Search Contact\n",
      "4. Quit\n"
     ]
    },
    {
     "name": "stdin",
     "output_type": "stream",
     "text": [
      "Enter your choice (1/2/3/4):  1\n",
      "Enter the name:  Aditya\n",
      "Enter the phone number:  88\n"
     ]
    },
    {
     "name": "stdout",
     "output_type": "stream",
     "text": [
      "Contact 'Aditya' added successfully!\n",
      "\n",
      "Menu:\n",
      "1. Add Contact\n",
      "2. View Contacts\n",
      "3. Search Contact\n",
      "4. Quit\n"
     ]
    },
    {
     "name": "stdin",
     "output_type": "stream",
     "text": [
      "Enter your choice (1/2/3/4):  2\n"
     ]
    },
    {
     "name": "stdout",
     "output_type": "stream",
     "text": [
      "Contacts:\n",
      "Name: Adi, Phone: 97979696\n",
      "Name: Aditya, Phone: 88\n",
      "\n",
      "Menu:\n",
      "1. Add Contact\n",
      "2. View Contacts\n",
      "3. Search Contact\n",
      "4. Quit\n"
     ]
    }
   ],
   "source": [
    "# Define an empty dictionary to store contacts\n",
    "contacts = {}\n",
    "\n",
    "# Function to add a contact\n",
    "def add_contact(name, phone):\n",
    "    contacts[name] = phone\n",
    "    print(f\"Contact '{name}' added successfully!\")\n",
    "\n",
    "# Function to view all contacts\n",
    "def view_contacts():\n",
    "    if not contacts:\n",
    "        print(\"No contacts found.\")\n",
    "    else:\n",
    "        print(\"Contacts:\")\n",
    "        for name, phone in contacts.items():\n",
    "            print(f\"Name: {name}, Phone: {phone}\")\n",
    "\n",
    "# Function to search for a contact\n",
    "def search_contact(name):\n",
    "    if name in contacts:\n",
    "        print(f\"Name: {name}, Phone: {contacts[name]}\")\n",
    "    else:\n",
    "        print(f\"Contact '{name}' not found.\")\n",
    "\n",
    "# Main program loop\n",
    "while True:\n",
    "    print(\"\\nMenu:\")\n",
    "    print(\"1. Add Contact\")\n",
    "    print(\"2. View Contacts\")\n",
    "    print(\"3. Search Contact\")\n",
    "    print(\"4. Quit\")\n",
    "    \n",
    "    choice = input(\"Enter your choice (1/2/3/4): \")\n",
    "    \n",
    "    if choice == '1':\n",
    "        name = input(\"Enter the name: \")\n",
    "        phone = input(\"Enter the phone number: \")\n",
    "        add_contact(name, phone)\n",
    "    elif choice == '2':\n",
    "        view_contacts()\n",
    "    elif choice == '3':\n",
    "        name = input(\"Enter the name to search for: \")\n",
    "        search_contact(name)\n",
    "    elif choice == '4':\n",
    "        print(\"Goodbye!\")\n",
    "        break\n",
    "    else:\n",
    "        print(\"Invalid choice. Please try again.\")\n"
   ]
  },
  {
   "cell_type": "code",
   "execution_count": null,
   "id": "c158f9b1-317e-4fab-893f-516ce4a3e250",
   "metadata": {},
   "outputs": [],
   "source": []
  }
 ],
 "metadata": {
  "kernelspec": {
   "display_name": "Python 3 (ipykernel)",
   "language": "python",
   "name": "python3"
  },
  "language_info": {
   "codemirror_mode": {
    "name": "ipython",
    "version": 3
   },
   "file_extension": ".py",
   "mimetype": "text/x-python",
   "name": "python",
   "nbconvert_exporter": "python",
   "pygments_lexer": "ipython3",
   "version": "3.11.4"
  }
 },
 "nbformat": 4,
 "nbformat_minor": 5
}
